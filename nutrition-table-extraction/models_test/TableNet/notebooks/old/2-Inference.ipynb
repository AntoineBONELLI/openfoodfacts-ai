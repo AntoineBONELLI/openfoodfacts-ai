{
 "cells": [
  {
   "cell_type": "code",
   "execution_count": 2,
   "metadata": {},
   "outputs": [],
   "source": [
    "import tensorflow as tf\n",
    "import sys\n",
    "sys.path.append('../lib')\n",
    "from table_detection import TableNet\n",
    "from utils import *\n",
    "import cv2\n",
    "from shutil import copyfile"
   ]
  },
  {
   "cell_type": "code",
   "execution_count": 3,
   "metadata": {},
   "outputs": [],
   "source": [
    "import os"
   ]
  },
  {
   "cell_type": "code",
   "execution_count": 4,
   "metadata": {},
   "outputs": [
    {
     "name": "stdout",
     "output_type": "stream",
     "text": [
      "WARNING:tensorflow:Large dropout rate: 0.8 (>0.5). In TensorFlow 2.x, dropout() uses dropout rate instead of keep_prob. Please ensure that this is intended.\n",
      "WARNING:tensorflow:Large dropout rate: 0.8 (>0.5). In TensorFlow 2.x, dropout() uses dropout rate instead of keep_prob. Please ensure that this is intended.\n",
      "WARNING:tensorflow:Large dropout rate: 0.8 (>0.5). In TensorFlow 2.x, dropout() uses dropout rate instead of keep_prob. Please ensure that this is intended.\n"
     ]
    },
    {
     "data": {
      "text/plain": [
       "<tensorflow.python.training.tracking.util.CheckpointLoadStatus at 0x12675e59b38>"
      ]
     },
     "execution_count": 4,
     "metadata": {},
     "output_type": "execute_result"
    }
   ],
   "source": [
    "model = TableNet.build()\n",
    "latest = tf.train.latest_checkpoint('models/2020_09_23')\n",
    "model.load_weights(latest)"
   ]
  },
  {
   "cell_type": "code",
   "execution_count": 5,
   "metadata": {},
   "outputs": [],
   "source": [
    "img_height, img_width = 256, 256\n",
    "def decode_img(img):\n",
    "  # convert the compressed string to a 3D uint8 tensor\n",
    "  img = tf.image.decode_jpeg(img)\n",
    "  # resize the image to the desired size\n",
    "  return tf.image.resize(img, [img_height, img_width]), img.shape\n",
    "\n",
    "def normalize(input_image):\n",
    "    input_image = tf.cast(input_image, tf.float32) / 255.0\n",
    "    return input_image\n",
    "\n",
    "def get_image_tensor(file):\n",
    "    decoded_img, shape = decode_img(tf.io.read_file(file))\n",
    "    return normalize(decoded_img), shape\n",
    "def save_pred(filename,pred):\n",
    "    plt.imsave(filename,np.repeat(255*tf.keras.preprocessing.image.array_to_img(column_mask),3).reshape(256,256,3))"
   ]
  },
  {
   "cell_type": "code",
   "execution_count": 6,
   "metadata": {},
   "outputs": [
    {
     "name": "stdout",
     "output_type": "stream",
     "text": [
      "1/1 [==============================] - 4s 4s/sample\n",
      "1/1 [==============================] - 0s 66ms/sample\n",
      "1/1 [==============================] - 0s 67ms/sample\n",
      "1/1 [==============================] - 0s 67ms/sample\n",
      "1/1 [==============================] - 0s 67ms/sample\n",
      "1/1 [==============================] - 0s 68ms/sample\n",
      "1/1 [==============================] - 0s 66ms/sample\n",
      "1/1 [==============================] - 0s 68ms/sample\n",
      "1/1 [==============================] - 0s 68ms/sample\n",
      "1/1 [==============================] - 0s 69ms/sample\n",
      "1/1 [==============================] - 0s 69ms/sample\n",
      "1/1 [==============================] - 0s 70ms/sample\n",
      "1/1 [==============================] - 0s 68ms/sample\n",
      "1/1 [==============================] - 0s 68ms/sample\n",
      "1/1 [==============================] - 0s 67ms/sample\n",
      "1/1 [==============================] - 0s 68ms/sample\n",
      "1/1 [==============================] - 0s 67ms/sample\n",
      "1/1 [==============================] - 0s 68ms/sample\n",
      "1/1 [==============================] - 0s 66ms/sample\n",
      "1/1 [==============================] - 0s 67ms/sample\n",
      "1/1 [==============================] - 0s 69ms/sample\n",
      "1/1 [==============================] - 0s 67ms/sample\n",
      "1/1 [==============================] - 0s 68ms/sample\n",
      "1/1 [==============================] - 0s 67ms/sample\n",
      "1/1 [==============================] - 0s 68ms/sample\n",
      "1/1 [==============================] - 0s 68ms/sample\n",
      "1/1 [==============================] - 0s 67ms/sample\n",
      "1/1 [==============================] - 0s 67ms/sample\n",
      "1/1 [==============================] - 0s 67ms/sample\n",
      "1/1 [==============================] - 0s 68ms/sample\n",
      "1/1 [==============================] - 0s 68ms/sample\n",
      "1/1 [==============================] - 0s 68ms/sample\n",
      "1/1 [==============================] - 0s 67ms/sample\n",
      "1/1 [==============================] - 0s 69ms/sample\n",
      "1/1 [==============================] - 0s 68ms/sample\n",
      "1/1 [==============================] - 0s 68ms/sample\n",
      "1/1 [==============================] - 0s 67ms/sample\n",
      "1/1 [==============================] - 0s 67ms/sample\n",
      "1/1 [==============================] - 0s 68ms/sample\n",
      "1/1 [==============================] - 0s 67ms/sample\n",
      "1/1 [==============================] - 0s 67ms/sample\n",
      "1/1 [==============================] - 0s 67ms/sample\n",
      "1/1 [==============================] - 0s 67ms/sample\n",
      "1/1 [==============================] - 0s 68ms/sample\n",
      "1/1 [==============================] - 0s 68ms/sample\n",
      "1/1 [==============================] - 0s 66ms/sample\n",
      "1/1 [==============================] - 0s 68ms/sample\n",
      "1/1 [==============================] - 0s 68ms/sample\n",
      "1/1 [==============================] - 0s 68ms/sample\n"
     ]
    }
   ],
   "source": [
    "for file in [os.path.join('../data/test/',x) for x in os.listdir('../data/test/') if x.split('.')[-1]=='jpg']:\n",
    "    img_tensor,shape = get_image_tensor(file)\n",
    "    image = tf.expand_dims(img_tensor,axis=0)\n",
    "    table_mask, column_mask = get_masks(model,image)\n",
    "    plt.imsave(os.path.join('../results/test_table_mask',file.split('/')[-1]),tf.keras.preprocessing.image.array_to_img(table_mask),cmap='gray')\n",
    "    plt.imsave(os.path.join('../results/test_column_mask',file.split('/')[-1]),tf.keras.preprocessing.image.array_to_img(column_mask),cmap='gray')\n",
    "    copyfile(file, os.path.join('../results/test_image',file.split('/')[-1]))"
   ]
  }
 ],
 "metadata": {
  "kernelspec": {
   "display_name": "Python 3",
   "language": "python",
   "name": "python3"
  },
  "language_info": {
   "codemirror_mode": {
    "name": "ipython",
    "version": 3
   },
   "file_extension": ".py",
   "mimetype": "text/x-python",
   "name": "python",
   "nbconvert_exporter": "python",
   "pygments_lexer": "ipython3",
   "version": "3.6.11"
  }
 },
 "nbformat": 4,
 "nbformat_minor": 4
}
