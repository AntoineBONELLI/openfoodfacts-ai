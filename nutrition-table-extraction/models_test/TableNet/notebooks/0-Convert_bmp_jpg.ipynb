{
 "cells": [
  {
   "cell_type": "code",
   "execution_count": 2,
   "metadata": {},
   "outputs": [],
   "source": [
    "from PIL import Image\n",
    "import os"
   ]
  },
  {
   "cell_type": "code",
   "execution_count": 10,
   "metadata": {},
   "outputs": [],
   "source": [
    "file_names = [os.path.join('../data',x) for x in os.listdir('../data') if x.split('.')[-1]=='bmp']\n",
    "new_file_names = ['.'.join(x.split('.')[:-1]+['jpg']) for x in file_names]"
   ]
  },
  {
   "cell_type": "code",
   "execution_count": 11,
   "metadata": {},
   "outputs": [],
   "source": [
    "files_with_new_names = zip(file_names,new_file_names)"
   ]
  },
  {
   "cell_type": "code",
   "execution_count": 12,
   "metadata": {},
   "outputs": [],
   "source": [
    "for old, new in files_with_new_names:\n",
    "    Image.open(old).save(new)\n",
    "    os.remove(old)"
   ]
  },
  {
   "cell_type": "code",
   "execution_count": 13,
   "metadata": {},
   "outputs": [],
   "source": [
    "annotation_files = [os.path.join('../data',x) for x in os.listdir('../data') if x.split('.')[-1]=='xml']"
   ]
  },
  {
   "cell_type": "code",
   "execution_count": 17,
   "metadata": {},
   "outputs": [],
   "source": [
    "for file in annotation_files:\n",
    "    with open(file, \"r+\") as f:\n",
    "        old = f.read() # read everything in the file\n",
    "        f.seek(0) # rewind\n",
    "        f.write(old.replace('bmp','jpg')) # write the new line before"
   ]
  }
 ],
 "metadata": {
  "kernelspec": {
   "display_name": "Python 3",
   "language": "python",
   "name": "python3"
  },
  "language_info": {
   "codemirror_mode": {
    "name": "ipython",
    "version": 3
   },
   "file_extension": ".py",
   "mimetype": "text/x-python",
   "name": "python",
   "nbconvert_exporter": "python",
   "pygments_lexer": "ipython3",
   "version": "3.7.3"
  }
 },
 "nbformat": 4,
 "nbformat_minor": 4
}
